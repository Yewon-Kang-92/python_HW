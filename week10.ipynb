{
  "nbformat": 4,
  "nbformat_minor": 0,
  "metadata": {
    "colab": {
      "provenance": [],
      "authorship_tag": "ABX9TyPA7dGLZ0tKJJNhrkya4hO3",
      "include_colab_link": true
    },
    "kernelspec": {
      "name": "python3",
      "display_name": "Python 3"
    },
    "language_info": {
      "name": "python"
    }
  },
  "cells": [
    {
      "cell_type": "markdown",
      "metadata": {
        "id": "view-in-github",
        "colab_type": "text"
      },
      "source": [
        "<a href=\"https://colab.research.google.com/github/Yewon-Kang-92/python_HW/blob/master/week10.ipynb\" target=\"_parent\"><img src=\"https://colab.research.google.com/assets/colab-badge.svg\" alt=\"Open In Colab\"/></a>"
      ]
    },
    {
      "cell_type": "code",
      "execution_count": 1,
      "metadata": {
        "colab": {
          "base_uri": "https://localhost:8080/"
        },
        "id": "8y_u8XupumpK",
        "outputId": "19e79a95-b573-49a7-bc24-fa45614c9ec1"
      },
      "outputs": [
        {
          "output_type": "stream",
          "name": "stdout",
          "text": [
            "3\n",
            "7\n"
          ]
        }
      ],
      "source": [
        "# 전역변수 사용 예제\n",
        "result = 0\n",
        "\n",
        "def add(num):\n",
        "    global result\n",
        "    result += num\n",
        "    return result\n",
        "\n",
        "print(add(3))  # 3\n",
        "print(add(4))  # 7\n"
      ]
    },
    {
      "cell_type": "code",
      "source": [
        "# 전역변수 방식의 문제점\n",
        "result1 = 0\n",
        "result2 = 0\n",
        "\n",
        "def add1(num):\n",
        "    global result1\n",
        "    result1 += num\n",
        "    return result1\n",
        "\n",
        "def add2(num):\n",
        "    global result2\n",
        "    result2 += num\n",
        "    return result2\n",
        "\n",
        "print(add1(3))  # 3\n",
        "print(add1(4))  # 7\n",
        "print(add2(5))  # 5\n",
        "print(add2(6))  # 11\n"
      ],
      "metadata": {
        "colab": {
          "base_uri": "https://localhost:8080/"
        },
        "id": "x4x8hTo3uo7p",
        "outputId": "e232052c-ac80-4a38-ff95-bbd2fdda5941"
      },
      "execution_count": 2,
      "outputs": [
        {
          "output_type": "stream",
          "name": "stdout",
          "text": [
            "3\n",
            "7\n",
            "5\n",
            "11\n"
          ]
        }
      ]
    },
    {
      "cell_type": "code",
      "source": [
        "# 클래스 사용\n",
        "class Calculator:\n",
        "    def __init__(self):\n",
        "        self.result = 0\n",
        "\n",
        "    def add(self, num):\n",
        "        self.result += num\n",
        "        return self.result\n",
        "\n",
        "cal1 = Calculator()\n",
        "cal2 = Calculator()\n",
        "\n",
        "print(cal1.add(3))  # 3\n",
        "print(cal1.add(4))  # 7\n",
        "print(cal2.add(5))  # 5\n",
        "print(cal2.add(6))  # 11\n"
      ],
      "metadata": {
        "colab": {
          "base_uri": "https://localhost:8080/"
        },
        "id": "wUcE65jrurWB",
        "outputId": "552162a8-d472-45c3-bd5d-f4e0c18a45ee"
      },
      "execution_count": 3,
      "outputs": [
        {
          "output_type": "stream",
          "name": "stdout",
          "text": [
            "3\n",
            "7\n",
            "5\n",
            "11\n"
          ]
        }
      ]
    },
    {
      "cell_type": "code",
      "source": [
        "# cal1은 객체이며, Calculator의 인스턴스\n",
        "print(isinstance(cal1, Calculator))  # True\n"
      ],
      "metadata": {
        "colab": {
          "base_uri": "https://localhost:8080/"
        },
        "id": "Skg_TIDQuspO",
        "outputId": "4fefb38d-c648-4994-f258-14ecce57a34a"
      },
      "execution_count": 4,
      "outputs": [
        {
          "output_type": "stream",
          "name": "stdout",
          "text": [
            "True\n"
          ]
        }
      ]
    },
    {
      "cell_type": "code",
      "source": [
        "# 클래스 변수 예제\n",
        "class Service:\n",
        "    secret = \"영구는 배꼽이 두 개다\"\n",
        "\n",
        "an = Service()\n",
        "print(an.secret)  # 객체를 통해 접근\n",
        "print(Service.secret)  # 클래스를 통해 접근\n"
      ],
      "metadata": {
        "colab": {
          "base_uri": "https://localhost:8080/"
        },
        "id": "hGtRmWfwutyb",
        "outputId": "ca7f863a-903a-4270-dfca-23a7ec579083"
      },
      "execution_count": 5,
      "outputs": [
        {
          "output_type": "stream",
          "name": "stdout",
          "text": [
            "영구는 배꼽이 두 개다\n",
            "영구는 배꼽이 두 개다\n"
          ]
        }
      ]
    },
    {
      "cell_type": "code",
      "source": [
        "# 클래스 변수를 통한 공유\n",
        "Service.secret = \"비밀이 바뀌었어요\"\n",
        "print(an.secret)          # 비밀이 바뀌었어요\n",
        "print(Service.secret)     # 비밀이 바뀌었어요\n"
      ],
      "metadata": {
        "colab": {
          "base_uri": "https://localhost:8080/"
        },
        "id": "s1l6Mo0xuu2N",
        "outputId": "7d6354b3-b121-4056-ba74-eceda1fa40db"
      },
      "execution_count": 6,
      "outputs": [
        {
          "output_type": "stream",
          "name": "stdout",
          "text": [
            "비밀이 바뀌었어요\n",
            "비밀이 바뀌었어요\n"
          ]
        }
      ]
    },
    {
      "cell_type": "code",
      "source": [
        "class Service:\n",
        "    def sum(self, a, b):\n",
        "        result = a + b\n",
        "        print(f\"{a} + {b} = {result}\")\n",
        "\n",
        "an = Service()\n",
        "an.sum(3, 4)\n"
      ],
      "metadata": {
        "colab": {
          "base_uri": "https://localhost:8080/"
        },
        "id": "VB4c0icUuxEr",
        "outputId": "f19558a3-6b7b-4314-aa74-c81907787a30"
      },
      "execution_count": 7,
      "outputs": [
        {
          "output_type": "stream",
          "name": "stdout",
          "text": [
            "3 + 4 = 7\n"
          ]
        }
      ]
    },
    {
      "cell_type": "code",
      "source": [
        "# self는 호출한 객체 자신\n",
        "class Service:\n",
        "    def say(self):\n",
        "        print(\"self는\", self)\n",
        "\n",
        "an = Service()\n",
        "an.say()\n"
      ],
      "metadata": {
        "colab": {
          "base_uri": "https://localhost:8080/"
        },
        "id": "k516TsByuyJT",
        "outputId": "1a17eb91-2291-4dbd-bcb7-4dc44ebe5333"
      },
      "execution_count": 8,
      "outputs": [
        {
          "output_type": "stream",
          "name": "stdout",
          "text": [
            "self는 <__main__.Service object at 0x780ce4d273d0>\n"
          ]
        }
      ]
    },
    {
      "cell_type": "code",
      "source": [
        "class Service:\n",
        "    secret = \"영구는 배꼽이 두 개다\"\n",
        "    def setname(self, name):\n",
        "        self.name = name\n",
        "\n",
        "an = Service()\n",
        "an.setname(\"길동\")\n",
        "print(an.name)\n"
      ],
      "metadata": {
        "colab": {
          "base_uri": "https://localhost:8080/"
        },
        "id": "tm3tT_mouzoZ",
        "outputId": "25687404-9897-4757-9102-58f6a583c3eb"
      },
      "execution_count": 9,
      "outputs": [
        {
          "output_type": "stream",
          "name": "stdout",
          "text": [
            "길동\n"
          ]
        }
      ]
    },
    {
      "cell_type": "code",
      "source": [
        "class Service:\n",
        "    secret = \"클래스 변수\"\n",
        "\n",
        "    def setname(self, name):\n",
        "        self.name = name  # 객체 변수\n",
        "\n",
        "a = Service()\n",
        "b = Service()\n",
        "\n",
        "a.setname(\"길동\")\n",
        "b.setname(\"철수\")\n",
        "\n",
        "print(a.name)  # 길동\n",
        "print(b.name)  # 철수\n",
        "print(Service.secret)  # 클래스 변수\n"
      ],
      "metadata": {
        "colab": {
          "base_uri": "https://localhost:8080/"
        },
        "id": "QhFkTb-lu00t",
        "outputId": "82378171-19bc-4dc1-f6ac-0e606b57957d"
      },
      "execution_count": 10,
      "outputs": [
        {
          "output_type": "stream",
          "name": "stdout",
          "text": [
            "길동\n",
            "철수\n",
            "클래스 변수\n"
          ]
        }
      ]
    },
    {
      "cell_type": "code",
      "source": [
        "class Service:\n",
        "    def __init__(self, name):\n",
        "        self.name = name\n",
        "\n",
        "an = Service(\"길동\")\n",
        "print(an.name)\n"
      ],
      "metadata": {
        "colab": {
          "base_uri": "https://localhost:8080/"
        },
        "id": "5S_5NjTIu1-R",
        "outputId": "0727c585-7946-4a7a-cb9d-93c80c151c22"
      },
      "execution_count": 11,
      "outputs": [
        {
          "output_type": "stream",
          "name": "stdout",
          "text": [
            "길동\n"
          ]
        }
      ]
    },
    {
      "cell_type": "code",
      "source": [
        "class Service:\n",
        "    secret = \"비밀입니다\"\n",
        "\n",
        "    def __init__(self, name):\n",
        "        self.name = name\n",
        "\n",
        "    def sum(self, a, b):\n",
        "        result = a + b\n",
        "        print(f\"{self.name}님, {a}+{b}={result} 입니다.\")\n",
        "\n",
        "an = Service(\"영구\")\n",
        "an.sum(2, 3)\n"
      ],
      "metadata": {
        "colab": {
          "base_uri": "https://localhost:8080/"
        },
        "id": "FvmpK2afu3GW",
        "outputId": "1460e1b0-ad24-4220-8d78-addc62fdd152"
      },
      "execution_count": 12,
      "outputs": [
        {
          "output_type": "stream",
          "name": "stdout",
          "text": [
            "영구님, 2+3=5 입니다.\n"
          ]
        }
      ]
    },
    {
      "cell_type": "code",
      "source": [
        "# p.24: 기본 구조\n",
        "class FourCal:\n",
        "    pass\n",
        "\n",
        "# p.25: 데이터 입력 메서드\n",
        "class FourCal:\n",
        "    def setdata(self, first, second):\n",
        "        self.first = first\n",
        "        self.second = second\n",
        "\n",
        "a = FourCal()\n",
        "a.setdata(4, 2)\n",
        "\n",
        "# p.26: 더하기 메서드 추가\n",
        "class FourCal:\n",
        "    def setdata(self, first, second):\n",
        "        self.first = first\n",
        "        self.second = second\n",
        "\n",
        "    def add(self):\n",
        "        return self.first + self.second\n",
        "\n",
        "a = FourCal()\n",
        "a.setdata(4, 2)\n",
        "print(a.add())  # 6\n",
        "\n",
        "# p.27: 사칙연산 메서드 전체\n",
        "class FourCal:\n",
        "    def setdata(self, first, second):\n",
        "        self.first = first\n",
        "        self.second = second\n",
        "\n",
        "    def add(self):\n",
        "        return self.first + self.second\n",
        "\n",
        "    def sub(self):\n",
        "        return self.first - self.second\n",
        "\n",
        "    def mul(self):\n",
        "        return self.first * self.second\n",
        "\n",
        "    def div(self):\n",
        "        return self.first / self.second\n",
        "\n",
        "a = FourCal()\n",
        "a.setdata(4, 2)\n",
        "print(a.add())  # 6\n",
        "print(a.sub())  # 2\n",
        "print(a.mul())  # 8\n",
        "print(a.div())  # 2.0\n"
      ],
      "metadata": {
        "colab": {
          "base_uri": "https://localhost:8080/"
        },
        "id": "bPpfhYQ-u4PM",
        "outputId": "9510d71b-472a-46ad-e6f8-768df6ef6ba0"
      },
      "execution_count": 13,
      "outputs": [
        {
          "output_type": "stream",
          "name": "stdout",
          "text": [
            "6\n",
            "6\n",
            "2\n",
            "8\n",
            "2.0\n"
          ]
        }
      ]
    },
    {
      "cell_type": "code",
      "source": [
        "# 순차적 프로그래밍 방식\n",
        "\n",
        "import random\n",
        "\n",
        "print(\"주사위 게임 시작!\")\n",
        "\n",
        "player1 = \"영희\"\n",
        "player2 = \"철수\"\n",
        "\n",
        "# 주사위 세 번씩 굴리기\n",
        "score1 = random.randint(1, 6) + random.randint(1, 6) + random.randint(1, 6)\n",
        "score2 = random.randint(1, 6) + random.randint(1, 6) + random.randint(1, 6)\n",
        "\n",
        "print(f\"{player1}의 점수: {score1}\")\n",
        "print(f\"{player2}의 점수: {score2}\")\n",
        "\n",
        "# 승자 판별\n",
        "if score1 > score2:\n",
        "    print(f\"{player1} 승리!\")\n",
        "elif score1 < score2:\n",
        "    print(f\"{player2} 승리!\")\n",
        "else:\n",
        "    print(\"무승부!\")\n"
      ],
      "metadata": {
        "colab": {
          "base_uri": "https://localhost:8080/"
        },
        "id": "37jCrnkMu55c",
        "outputId": "55484f71-a43d-4659-f929-25c1310a2d68"
      },
      "execution_count": 14,
      "outputs": [
        {
          "output_type": "stream",
          "name": "stdout",
          "text": [
            "주사위 게임 시작!\n",
            "영희의 점수: 10\n",
            "철수의 점수: 15\n",
            "철수 승리!\n"
          ]
        }
      ]
    },
    {
      "cell_type": "code",
      "source": [
        "# OOP 방식으로 구현한 주사위 게임\n",
        "\n",
        "import random\n",
        "\n",
        "class Player:\n",
        "    def __init__(self, name):\n",
        "        self.name = name\n",
        "        self.score = 0\n",
        "\n",
        "    def roll_dice(self):\n",
        "        # 주사위 3개 굴리기\n",
        "        self.score = sum(random.randint(1, 6) for _ in range(3))\n",
        "\n",
        "    def get_score(self):\n",
        "        return self.score\n",
        "\n",
        "# 게임 진행 함수\n",
        "def play_game(player1, player2):\n",
        "    player1.roll_dice()\n",
        "    player2.roll_dice()\n",
        "\n",
        "    print(f\"{player1.name}의 점수: {player1.get_score()}\")\n",
        "    print(f\"{player2.name}의 점수: {player2.get_score()}\")\n",
        "\n",
        "    if player1.get_score() > player2.get_score():\n",
        "        print(f\"{player1.name} 승리!\")\n",
        "    elif player1.get_score() < player2.get_score():\n",
        "        print(f\"{player2.name} 승리!\")\n",
        "    else:\n",
        "        print(\"무승부!\")\n",
        "\n",
        "# 객체 생성 및 게임 실행\n",
        "p1 = Player(\"영희\")\n",
        "p2 = Player(\"철수\")\n",
        "\n",
        "play_game(p1, p2)\n"
      ],
      "metadata": {
        "colab": {
          "base_uri": "https://localhost:8080/"
        },
        "id": "S7EwTVWivIbw",
        "outputId": "355b41a4-640c-4449-e98b-be387253a0b4"
      },
      "execution_count": 15,
      "outputs": [
        {
          "output_type": "stream",
          "name": "stdout",
          "text": [
            "영희의 점수: 9\n",
            "철수의 점수: 9\n",
            "무승부!\n"
          ]
        }
      ]
    }
  ]
}