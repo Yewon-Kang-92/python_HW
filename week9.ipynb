{
  "nbformat": 4,
  "nbformat_minor": 0,
  "metadata": {
    "colab": {
      "provenance": [],
      "authorship_tag": "ABX9TyOyYyRa2PJZBmp+sWcCUUUv",
      "include_colab_link": true
    },
    "kernelspec": {
      "name": "python3",
      "display_name": "Python 3"
    },
    "language_info": {
      "name": "python"
    }
  },
  "cells": [
    {
      "cell_type": "markdown",
      "metadata": {
        "id": "view-in-github",
        "colab_type": "text"
      },
      "source": [
        "<a href=\"https://colab.research.google.com/github/Yewon-Kang-92/python_HW/blob/master/week9.ipynb\" target=\"_parent\"><img src=\"https://colab.research.google.com/assets/colab-badge.svg\" alt=\"Open In Colab\"/></a>"
      ]
    },
    {
      "cell_type": "code",
      "execution_count": 1,
      "metadata": {
        "colab": {
          "base_uri": "https://localhost:8080/"
        },
        "id": "eRofEGSfsWLj",
        "outputId": "5bea5c76-8b77-47d2-f95c-0792e80015db"
      },
      "outputs": [
        {
          "output_type": "stream",
          "name": "stdout",
          "text": [
            "[1, 2, 3, 4, 5]\n"
          ]
        }
      ],
      "source": [
        "# 리스트에 숫자를 하나씩 추가\n",
        "number_list = []\n",
        "number_list.append(1)\n",
        "number_list.append(2)\n",
        "number_list.append(3)\n",
        "number_list.append(4)\n",
        "number_list.append(5)\n",
        "print(number_list)\n"
      ]
    },
    {
      "cell_type": "code",
      "source": [
        "# 리스트 컴프리헨션 (기본형)\n",
        "number_list = [number for number in range(1, 6)]\n",
        "print(number_list)\n"
      ],
      "metadata": {
        "colab": {
          "base_uri": "https://localhost:8080/"
        },
        "id": "3MeWsI1zs8fu",
        "outputId": "9ebdc133-c32c-43db-d639-bcdf06806753"
      },
      "execution_count": 2,
      "outputs": [
        {
          "output_type": "stream",
          "name": "stdout",
          "text": [
            "[1, 2, 3, 4, 5]\n"
          ]
        }
      ]
    },
    {
      "cell_type": "code",
      "source": [
        "# 함수 적용: 각 요소에 -1\n",
        "number_list = [number - 1 for number in range(1, 6)]\n",
        "print(number_list)\n"
      ],
      "metadata": {
        "colab": {
          "base_uri": "https://localhost:8080/"
        },
        "id": "WXU0JLC1s9K4",
        "outputId": "e5733bc9-098d-4e82-8a48-a6ab28ecf9d1"
      },
      "execution_count": 3,
      "outputs": [
        {
          "output_type": "stream",
          "name": "stdout",
          "text": [
            "[0, 1, 2, 3, 4]\n"
          ]
        }
      ]
    },
    {
      "cell_type": "code",
      "source": [
        "# 조건 적용: 홀수만 선택\n",
        "a_list = [number for number in range(1, 6) if number % 2 == 1]\n",
        "print(a_list)\n"
      ],
      "metadata": {
        "colab": {
          "base_uri": "https://localhost:8080/"
        },
        "id": "GBCT7UCEtBnK",
        "outputId": "9064286d-8bfd-426e-d78c-6f9d72427c8e"
      },
      "execution_count": 4,
      "outputs": [
        {
          "output_type": "stream",
          "name": "stdout",
          "text": [
            "[1, 3, 5]\n"
          ]
        }
      ]
    },
    {
      "cell_type": "code",
      "source": [
        "# 같은 조건을 for문으로 작성\n",
        "a_list = []\n",
        "for number in range(1, 6):\n",
        "    if number % 2 == 1:\n",
        "        a_list.append(number)\n",
        "print(a_list)\n"
      ],
      "metadata": {
        "colab": {
          "base_uri": "https://localhost:8080/"
        },
        "id": "fTkdE-2ptC6P",
        "outputId": "ad9aaac1-0575-4cd3-cab5-cb24af5f53e4"
      },
      "execution_count": 5,
      "outputs": [
        {
          "output_type": "stream",
          "name": "stdout",
          "text": [
            "[1, 3, 5]\n"
          ]
        }
      ]
    },
    {
      "cell_type": "code",
      "source": [
        "sentence = ['I', 'Love', 'Python', 'Soooooo', 'MUCH!!!']\n",
        "\n",
        "# 모두 소문자로 변환\n",
        "print([word.lower() for word in sentence])\n"
      ],
      "metadata": {
        "colab": {
          "base_uri": "https://localhost:8080/"
        },
        "id": "Xr3PGjk2tEFu",
        "outputId": "390d0f7f-3c9f-4990-f59e-021630d9d6a7"
      },
      "execution_count": 11,
      "outputs": [
        {
          "output_type": "stream",
          "name": "stdout",
          "text": [
            "['i', 'love', 'python', 'soooooo', 'much!!!']\n"
          ]
        }
      ]
    },
    {
      "cell_type": "code",
      "source": [
        "# 길이가 6 초과인 단어만 선택\n",
        "print([word for word in sentence if len(word) > 6])\n"
      ],
      "metadata": {
        "colab": {
          "base_uri": "https://localhost:8080/"
        },
        "id": "PtC1gBXvtFNS",
        "outputId": "0904ed1f-1a5d-4027-a547-f0e93fd7cd18"
      },
      "execution_count": 10,
      "outputs": [
        {
          "output_type": "stream",
          "name": "stdout",
          "text": [
            "['Soooooo', 'MUCH!!!']\n"
          ]
        }
      ]
    },
    {
      "cell_type": "code",
      "source": [
        "# (x, x^2, x^3) 형태의 튜플 리스트 생성\n",
        "print([(x, x ** 2, x ** 3) for x in range(10)])\n"
      ],
      "metadata": {
        "colab": {
          "base_uri": "https://localhost:8080/"
        },
        "id": "EmStzt8UtICU",
        "outputId": "7c6c4d73-3911-42fb-bbd1-e2b8696c8159"
      },
      "execution_count": 9,
      "outputs": [
        {
          "output_type": "stream",
          "name": "stdout",
          "text": [
            "[(0, 0, 0), (1, 1, 1), (2, 4, 8), (3, 9, 27), (4, 16, 64), (5, 25, 125), (6, 36, 216), (7, 49, 343), (8, 64, 512), (9, 81, 729)]\n"
          ]
        }
      ]
    },
    {
      "cell_type": "code",
      "source": [
        "# 이중 for문을 리스트 내포로 작성\n",
        "rows = range(1, 4)\n",
        "cols = range(1, 3)\n",
        "cells = [(row, col) for row in rows for col in cols]\n",
        "for cell in cells:\n",
        "    print(cell)\n"
      ],
      "metadata": {
        "colab": {
          "base_uri": "https://localhost:8080/"
        },
        "id": "HIfjqcwWtIKU",
        "outputId": "69d7eb34-1ce7-46fb-fa08-d50a3b9ed210"
      },
      "execution_count": 8,
      "outputs": [
        {
          "output_type": "stream",
          "name": "stdout",
          "text": [
            "(1, 1)\n",
            "(1, 2)\n",
            "(2, 1)\n",
            "(2, 2)\n",
            "(3, 1)\n",
            "(3, 2)\n"
          ]
        }
      ]
    },
    {
      "cell_type": "code",
      "source": [
        "# 다음 결과는?\n",
        "print([(i, j) for i in range(5) for j in range(i)])\n"
      ],
      "metadata": {
        "colab": {
          "base_uri": "https://localhost:8080/"
        },
        "id": "b3hcRhc5tLF6",
        "outputId": "194709d7-67b5-469b-cd6e-f4e3e51352c6"
      },
      "execution_count": 12,
      "outputs": [
        {
          "output_type": "stream",
          "name": "stdout",
          "text": [
            "[(1, 0), (2, 0), (2, 1), (3, 0), (3, 1), (3, 2), (4, 0), (4, 1), (4, 2), (4, 3)]\n"
          ]
        }
      ]
    },
    {
      "cell_type": "code",
      "source": [
        "# 중복된 문자를 포함한 경우\n",
        "word = 'letters'\n",
        "letter_counts = {letter: word.count(letter) for letter in word}\n",
        "print(letter_counts)\n"
      ],
      "metadata": {
        "colab": {
          "base_uri": "https://localhost:8080/"
        },
        "id": "JbFIWKmhtQEN",
        "outputId": "2e4caa1e-e699-4532-f2a3-8fdf86b2d79e"
      },
      "execution_count": 13,
      "outputs": [
        {
          "output_type": "stream",
          "name": "stdout",
          "text": [
            "{'l': 1, 'e': 2, 't': 2, 'r': 1, 's': 1}\n"
          ]
        }
      ]
    },
    {
      "cell_type": "code",
      "source": [
        "# 중복 제거: set(word) 사용\n",
        "letter_counts = {letter: word.count(letter) for letter in set(word)}\n",
        "print(letter_counts)\n"
      ],
      "metadata": {
        "colab": {
          "base_uri": "https://localhost:8080/"
        },
        "id": "EUNbEUEhtRR2",
        "outputId": "0807e5b7-ae11-4e5f-882b-809476d88a6b"
      },
      "execution_count": 14,
      "outputs": [
        {
          "output_type": "stream",
          "name": "stdout",
          "text": [
            "{'e': 2, 's': 1, 'r': 1, 't': 2, 'l': 1}\n"
          ]
        }
      ]
    },
    {
      "cell_type": "code",
      "source": [
        "# 1~5 중 3으로 나눈 나머지가 1인 값만 set으로 저장\n",
        "a_set = {number for number in range(1, 6) if number % 3 == 1}\n",
        "print(a_set)\n"
      ],
      "metadata": {
        "colab": {
          "base_uri": "https://localhost:8080/"
        },
        "id": "k9V21HhOtRbO",
        "outputId": "f95843c7-a404-4ecd-b2d6-5234f4250ea5"
      },
      "execution_count": 15,
      "outputs": [
        {
          "output_type": "stream",
          "name": "stdout",
          "text": [
            "{1, 4}\n"
          ]
        }
      ]
    },
    {
      "cell_type": "code",
      "source": [
        "# 딕셔너리 키-값 반전\n",
        "d = {'a': 1, 'b': 2}\n",
        "print({v: k for k, v in d.items()})\n"
      ],
      "metadata": {
        "colab": {
          "base_uri": "https://localhost:8080/"
        },
        "id": "ueqSn3xQtV8y",
        "outputId": "c93c5d9e-e051-4900-8475-839e987e6e1a"
      },
      "execution_count": 16,
      "outputs": [
        {
          "output_type": "stream",
          "name": "stdout",
          "text": [
            "{1: 'a', 2: 'b'}\n"
          ]
        }
      ]
    },
    {
      "cell_type": "code",
      "source": [
        "# 회문 판별 예제\n",
        "hamlet = ['madam', 'noon', 'civic', 'apple']\n",
        "\n",
        "def is_palindrome(word):\n",
        "    return word == word[::-1]\n",
        "\n",
        "print({word for word in hamlet if is_palindrome(word.lower())})\n"
      ],
      "metadata": {
        "colab": {
          "base_uri": "https://localhost:8080/"
        },
        "id": "L58UEvddtYFY",
        "outputId": "3e911840-ad3a-4b9f-ea8d-5399ed4dc07f"
      },
      "execution_count": 17,
      "outputs": [
        {
          "output_type": "stream",
          "name": "stdout",
          "text": [
            "{'civic', 'madam', 'noon'}\n"
          ]
        }
      ]
    },
    {
      "cell_type": "code",
      "source": [
        "# 함수의 기본 구조 예시\n",
        "def function_name(param1, param2):\n",
        "    value = param1 + param2  # do_something() 대신 간단한 처리 예시\n",
        "    return value\n",
        "\n",
        "# 함수 실행\n",
        "result = function_name(3, 4)\n",
        "print(result)  # 7\n"
      ],
      "metadata": {
        "colab": {
          "base_uri": "https://localhost:8080/"
        },
        "id": "3S8hz-0ntmPk",
        "outputId": "d5bd111b-5612-4818-ae4d-acb8ded9c8ad"
      },
      "execution_count": 18,
      "outputs": [
        {
          "output_type": "stream",
          "name": "stdout",
          "text": [
            "7\n"
          ]
        }
      ]
    },
    {
      "cell_type": "code",
      "source": [
        "# 두 수를 더하는 함수\n",
        "def add(a, b):\n",
        "    return a + b\n",
        "\n",
        "# 함수 실행\n",
        "print(add(10, 20))  # 30\n"
      ],
      "metadata": {
        "colab": {
          "base_uri": "https://localhost:8080/"
        },
        "id": "NDCHKD9atnER",
        "outputId": "dc7b7ab7-1346-4df9-ca6b-f55ec7a5e259"
      },
      "execution_count": 19,
      "outputs": [
        {
          "output_type": "stream",
          "name": "stdout",
          "text": [
            "30\n"
          ]
        }
      ]
    },
    {
      "cell_type": "code",
      "source": [
        "# zip으로 여러 리스트 병렬 순회\n",
        "days = ['Monday', 'Tuesday', 'Wednesday']\n",
        "fruits = ['banana', 'orange', 'peach']\n",
        "drinks = ['coffee', 'tea', 'beer']\n",
        "desserts = ['tiramisu', 'ice cream', 'pie', 'pudding']\n",
        "\n",
        "for day, fruit, drink, dessert in zip(days, fruits, drinks, desserts):\n",
        "    print(day, \": drink\", drink, \"- eat\", fruit, \"- enjoy\", dessert)\n"
      ],
      "metadata": {
        "colab": {
          "base_uri": "https://localhost:8080/"
        },
        "id": "Fj61HEeKtogN",
        "outputId": "72d73c33-38d9-46c8-f166-fe531839991b"
      },
      "execution_count": 20,
      "outputs": [
        {
          "output_type": "stream",
          "name": "stdout",
          "text": [
            "Monday : drink coffee - eat banana - enjoy tiramisu\n",
            "Tuesday : drink tea - eat orange - enjoy ice cream\n",
            "Wednesday : drink beer - eat peach - enjoy pie\n"
          ]
        }
      ]
    },
    {
      "cell_type": "code",
      "source": [
        "# zip으로 리스트 쌍 만들기\n",
        "english = ('Monday', 'Tuesday', 'Wednesday')\n",
        "french = ('Lundi', 'Mardi', 'Mercredi')\n",
        "\n",
        "# 리스트 형태\n",
        "print(list(zip(english, french)))\n",
        "\n",
        "# 딕셔너리 형태\n",
        "print(dict(zip(english, french)))\n"
      ],
      "metadata": {
        "colab": {
          "base_uri": "https://localhost:8080/"
        },
        "id": "6P0P41Ekts_T",
        "outputId": "2891d144-2824-4e97-eb92-1c9c0d8efeb2"
      },
      "execution_count": 21,
      "outputs": [
        {
          "output_type": "stream",
          "name": "stdout",
          "text": [
            "[('Monday', 'Lundi'), ('Tuesday', 'Mardi'), ('Wednesday', 'Mercredi')]\n",
            "{'Monday': 'Lundi', 'Tuesday': 'Mardi', 'Wednesday': 'Mercredi'}\n"
          ]
        }
      ]
    },
    {
      "cell_type": "code",
      "source": [
        "# 위치 인자를 사용하는 함수\n",
        "def menu(wine, entree, dessert):\n",
        "    return {'wine': wine, 'entree': entree, 'dessert': dessert}\n",
        "\n",
        "# 함수 실행\n",
        "print(menu('chardonnay', 'chicken', 'cake'))\n"
      ],
      "metadata": {
        "colab": {
          "base_uri": "https://localhost:8080/"
        },
        "id": "meMJpF3Dtu6A",
        "outputId": "faff5255-eb6c-4d34-efde-8db13b0b9205"
      },
      "execution_count": 22,
      "outputs": [
        {
          "output_type": "stream",
          "name": "stdout",
          "text": [
            "{'wine': 'chardonnay', 'entree': 'chicken', 'dessert': 'cake'}\n"
          ]
        }
      ]
    },
    {
      "cell_type": "code",
      "source": [
        "# 키워드 인자를 사용하는 함수\n",
        "def menu(wine, entree, dessert):\n",
        "    return {'wine': wine, 'entree': entree, 'dessert': dessert}\n",
        "\n",
        "# 키워드 인자 방식\n",
        "print(menu(entree='beef', dessert='bagel', wine='bordeaux'))\n",
        "\n",
        "# 혼합 방식: 위치 인자가 먼저\n",
        "print(menu('frontenac', dessert='flan', entree='fish'))\n"
      ],
      "metadata": {
        "colab": {
          "base_uri": "https://localhost:8080/"
        },
        "id": "TqNpahr1txuM",
        "outputId": "1477ac15-bad0-4720-8795-eaa92c9918bc"
      },
      "execution_count": 23,
      "outputs": [
        {
          "output_type": "stream",
          "name": "stdout",
          "text": [
            "{'wine': 'bordeaux', 'entree': 'beef', 'dessert': 'bagel'}\n",
            "{'wine': 'frontenac', 'entree': 'fish', 'dessert': 'flan'}\n"
          ]
        }
      ]
    },
    {
      "cell_type": "code",
      "source": [
        "# dessert에 기본값 지정\n",
        "def menu(wine, entree, dessert='pudding'):\n",
        "    return {'wine': wine, 'entree': entree, 'dessert': dessert}\n",
        "\n",
        "# dessert 생략\n",
        "print(menu('chardonnay', 'chicken'))\n",
        "\n",
        "# dessert 지정\n",
        "print(menu('dunkelfelder', 'duck', 'doughnut'))\n"
      ],
      "metadata": {
        "colab": {
          "base_uri": "https://localhost:8080/"
        },
        "id": "36TZ7QottzSh",
        "outputId": "4205ee33-e3d7-4412-cb82-ad8c94234620"
      },
      "execution_count": 24,
      "outputs": [
        {
          "output_type": "stream",
          "name": "stdout",
          "text": [
            "{'wine': 'chardonnay', 'entree': 'chicken', 'dessert': 'pudding'}\n",
            "{'wine': 'dunkelfelder', 'entree': 'duck', 'dessert': 'doughnut'}\n"
          ]
        }
      ]
    },
    {
      "cell_type": "code",
      "source": [
        "# 다양한 기본값을 가진 함수 정의\n",
        "def menu(price, wine='chardonnay', entree='chicken', dessert='pudding'):\n",
        "    return {'price': price, 'wine': wine, 'entree': entree, 'dessert': dessert}\n",
        "\n",
        "# 다양한 호출 방식\n",
        "print(menu(100))\n",
        "print(menu(price=120, entree='beef'))\n",
        "print(menu(dessert='bagel', price=110))\n",
        "print(menu('eighty', 'saint-pierre', 'fish'))\n",
        "print(menu('hundred', wine='saint-pierre'))\n"
      ],
      "metadata": {
        "colab": {
          "base_uri": "https://localhost:8080/"
        },
        "id": "pTih89omt0xi",
        "outputId": "eb755971-4323-4ddb-bf43-3d6bbe2556a6"
      },
      "execution_count": 25,
      "outputs": [
        {
          "output_type": "stream",
          "name": "stdout",
          "text": [
            "{'price': 100, 'wine': 'chardonnay', 'entree': 'chicken', 'dessert': 'pudding'}\n",
            "{'price': 120, 'wine': 'chardonnay', 'entree': 'beef', 'dessert': 'pudding'}\n",
            "{'price': 110, 'wine': 'chardonnay', 'entree': 'chicken', 'dessert': 'bagel'}\n",
            "{'price': 'eighty', 'wine': 'saint-pierre', 'entree': 'fish', 'dessert': 'pudding'}\n",
            "{'price': 'hundred', 'wine': 'saint-pierre', 'entree': 'chicken', 'dessert': 'pudding'}\n"
          ]
        }
      ]
    },
    {
      "cell_type": "code",
      "source": [
        "# 간단한 docstring 예시\n",
        "def echo(anything):\n",
        "    'echo returns its input argument'\n",
        "    return anything\n",
        "\n",
        "# 실행\n",
        "print(echo('Hello'))\n",
        "\n",
        "# 멀티라인 docstring 예시\n",
        "def print_if_true(thing, check):\n",
        "    \"\"\"\n",
        "    Prints the first argument if a second argument is true.\n",
        "    The operation is:\n",
        "\n",
        "    1. Check whether the *second* argument is true.\n",
        "    2. If it is, print the *first* argument.\n",
        "    \"\"\"\n",
        "    if check:\n",
        "        print(thing)\n",
        "\n",
        "# 실행\n",
        "print_if_true('Yes!', True)\n"
      ],
      "metadata": {
        "colab": {
          "base_uri": "https://localhost:8080/"
        },
        "id": "GiC3xdXRt5ui",
        "outputId": "45bc7fa6-fc4b-4239-fd55-7a1376514124"
      },
      "execution_count": 27,
      "outputs": [
        {
          "output_type": "stream",
          "name": "stdout",
          "text": [
            "Hello\n",
            "Yes!\n"
          ]
        }
      ]
    },
    {
      "cell_type": "code",
      "source": [
        "# 위에서 정의한 함수에 대해 help 사용\n",
        "help(echo)\n",
        "help(print_if_true)\n"
      ],
      "metadata": {
        "colab": {
          "base_uri": "https://localhost:8080/"
        },
        "id": "Y6g3i1wBt7TA",
        "outputId": "ce073874-e2b4-4c03-9d69-da21775745a5"
      },
      "execution_count": 28,
      "outputs": [
        {
          "output_type": "stream",
          "name": "stdout",
          "text": [
            "Help on function echo in module __main__:\n",
            "\n",
            "echo(anything)\n",
            "    echo returns its input argument\n",
            "\n",
            "Help on function print_if_true in module __main__:\n",
            "\n",
            "print_if_true(thing, check)\n",
            "    Prints the first argument if a second argument is true.\n",
            "    The operation is:\n",
            "    \n",
            "    1. Check whether the *second* argument is true.\n",
            "    2. If it is, print the *first* argument.\n",
            "\n"
          ]
        }
      ]
    },
    {
      "cell_type": "code",
      "source": [],
      "metadata": {
        "id": "BCbKpVjnt8yA"
      },
      "execution_count": null,
      "outputs": []
    }
  ]
}